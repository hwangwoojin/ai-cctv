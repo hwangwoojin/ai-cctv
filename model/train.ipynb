{
  "nbformat": 4,
  "nbformat_minor": 0,
  "metadata": {
    "colab": {
      "name": "DNN.ipynb",
      "provenance": [],
      "collapsed_sections": []
    },
    "kernelspec": {
      "name": "python3",
      "display_name": "Python 3"
    },
    "language_info": {
      "name": "python"
    },
    "accelerator": "GPU"
  },
  "cells": [
    {
      "cell_type": "code",
      "metadata": {
        "id": "z29d-sH-W0NF"
      },
      "source": [
        "import os\n",
        "import sys\n",
        "import torch\n",
        "import numpy as np\n",
        "from glob import glob\n",
        "import torch.nn.functional as F\n",
        "\n",
        "import torch.nn as nn\n",
        "\n",
        "from torch.utils.data import Dataset\n",
        "from torch.optim.lr_scheduler import MultiStepLR\n",
        "from matplotlib import pyplot as plt\n",
        "%matplotlib inline"
      ],
      "execution_count": 65,
      "outputs": []
    },
    {
      "cell_type": "code",
      "metadata": {
        "id": "eMsZi5sKWtEu"
      },
      "source": [
        "batch_size = 32\n",
        "num_workers = 1\n",
        "train_val_ratio = 0.9\n",
        "\n",
        "class FacialDataset(Dataset):\n",
        "    def __init__(self, data_path):\n",
        "        if not os.path.exists(data_path):\n",
        "            raise Exception(f\"[!] {self.data_path} not existed\")\n",
        "        self.imgs = []\n",
        "        self.labels = []\n",
        "        self.length = 0\n",
        "        self.action_path = sorted(glob(os.path.join(data_path, \"*.*\")))\n",
        "        for i, pth in enumerate(self.action_path):\n",
        "          with open(pth, 'r') as f:\n",
        "            for line in f.readlines():\n",
        "              self.imgs.extend([list(map(float, line.split(',')))])\n",
        "              self.labels.append(i)\n",
        "              self.length += 1\n",
        "        self.imgs = torch.from_numpy(np.array(self.imgs)).float()\n",
        "        self.labels = torch.from_numpy(np.array(self.labels)).float()\n",
        "\n",
        "    def __getitem__(self, idx):\n",
        "        image = self.imgs[idx]\n",
        "        label = self.labels[idx]\n",
        "        return image, label\n",
        "\n",
        "    def __len__(self):\n",
        "        return self.length\n",
        "\n",
        "def get_data_loader(data_path, batch_size, num_workers,train_val_ratio):\n",
        "    full_dataset = FacialDataset(data_path)\n",
        "    train_size = int(train_val_ratio * len(full_dataset))\n",
        "    val_size = len(full_dataset) - train_size\n",
        "    train_dataset, val_dataset = torch.utils.data.random_split(full_dataset, [train_size, val_size])\n",
        "    torch.manual_seed(3334)\n",
        "    train_loader = torch.utils.data.DataLoader(dataset=train_dataset,batch_size=batch_size,shuffle=True,num_workers=num_workers, pin_memory=False)\n",
        "    val_loader = torch.utils.data.DataLoader(dataset=val_dataset,batch_size=batch_size,shuffle=False,num_workers=num_workers, pin_memory=True)\n",
        "    return train_loader, val_loader\n",
        "\n",
        "train_loader, val_loader = get_data_loader('/content/dataset',batch_size,num_workers,train_val_ratio)"
      ],
      "execution_count": 137,
      "outputs": []
    },
    {
      "cell_type": "code",
      "metadata": {
        "id": "g2N8vMWoYDGF"
      },
      "source": [
        "num_classes = 4\n",
        "\n",
        "class DNN(nn.Module):\n",
        "    def __init__(self):\n",
        "        super(DNN, self).__init__()\n",
        "        h1 = nn.Linear(99, 50)\n",
        "        h2 = nn.Linear(50, 35)\n",
        "        h3 = nn.Linear(35, 1)\n",
        "        self.hidden = nn.Sequential(\n",
        "            h1,\n",
        "            nn.Tanh(),\n",
        "            h2,\n",
        "            nn.Tanh(),\n",
        "            h3,\n",
        "        )\n",
        "        if torch.cuda.is_available():\n",
        "            self.hidden = self.hidden.cuda()\n",
        "        \n",
        "    def forward(self, x):\n",
        "        out = self.hidden(x)\n",
        "        return out.view(-1)"
      ],
      "execution_count": 138,
      "outputs": []
    },
    {
      "cell_type": "code",
      "metadata": {
        "id": "ykybzM0pYKLX"
      },
      "source": [
        "learning_rate = 5e-5\n",
        "\n",
        "model = DNN().cuda()\n",
        "optimizer = torch.optim.AdamW(model.parameters(), lr=learning_rate, weight_decay=5e-4)\n",
        "scheduler = MultiStepLR(optimizer, milestones=[15, 30], gamma=0.2)"
      ],
      "execution_count": 141,
      "outputs": []
    },
    {
      "cell_type": "code",
      "metadata": {
        "colab": {
          "base_uri": "https://localhost:8080/"
        },
        "id": "EInCFbllZAUc",
        "outputId": "092ae603-92b1-45f0-caeb-972632d3e3b4"
      },
      "source": [
        "num_epochs = 45\n",
        "criterion = nn.MSELoss().cuda()\n",
        "\n",
        "trn_loss_list = []\n",
        "val_loss_list = []\n",
        "for epoch in range(num_epochs):\n",
        "    losses = 0.0\n",
        "    for i, train in enumerate(train_loader):\n",
        "        train_X, train_y = train\n",
        "        if torch.cuda.is_available():\n",
        "            train_X, train_y = train_X.cuda(), train_y.cuda()\n",
        "        optimizer.zero_grad()\n",
        "        pred = model(train_X)\n",
        "        loss = criterion(pred, train_y)\n",
        "        loss.backward()\n",
        "        optimizer.step()\n",
        "        \n",
        "        losses += loss\n",
        "        \n",
        "        if (i+1) % 15 == 0:\n",
        "            with torch.no_grad():\n",
        "                val_loss_summary = 0.0\n",
        "                for j, val in enumerate(val_loader):\n",
        "                    val_X, val_y = val\n",
        "                    if torch.cuda.is_available():\n",
        "                        val_X, val_y = val_X.cuda(), val_y.cuda()\n",
        "                    val_pred = model(val_X)\n",
        "                    val_loss = criterion(val_pred, val_y)\n",
        "                    val_loss_summary += val_loss\n",
        "                \n",
        "            print(\"epoch: {}/{} | step: {}/{} | trn_loss: {:.4f} | val_loss: {:.4f}\".format(\n",
        "                epoch + 1, num_epochs, i+1, len(train_loader), (loss/15)**(1/2), (val_loss_summary/len(val_loader))**(1/2)\n",
        "            ))\n",
        "                \n",
        "            trn_loss_list.append((loss/15)**(1/2))\n",
        "            val_loss_list.append((val_loss_summary/len(val_loader))**(1/2))\n",
        "            trn_loss_summary = 0.0\n",
        "        \n",
        "print(\"finish Training\")"
      ],
      "execution_count": 142,
      "outputs": [
        {
          "output_type": "stream",
          "name": "stdout",
          "text": [
            "epoch: 1/45 | step: 15/19 | trn_loss: 0.5072 | val_loss: 1.9338\n",
            "epoch: 2/45 | step: 15/19 | trn_loss: 0.5190 | val_loss: 1.8773\n",
            "epoch: 3/45 | step: 15/19 | trn_loss: 0.5210 | val_loss: 1.8204\n",
            "epoch: 4/45 | step: 15/19 | trn_loss: 0.5144 | val_loss: 1.7617\n",
            "epoch: 5/45 | step: 15/19 | trn_loss: 0.4764 | val_loss: 1.6997\n",
            "epoch: 6/45 | step: 15/19 | trn_loss: 0.4891 | val_loss: 1.6320\n",
            "epoch: 7/45 | step: 15/19 | trn_loss: 0.4683 | val_loss: 1.5628\n",
            "epoch: 8/45 | step: 15/19 | trn_loss: 0.4493 | val_loss: 1.4888\n",
            "epoch: 9/45 | step: 15/19 | trn_loss: 0.4623 | val_loss: 1.4119\n",
            "epoch: 10/45 | step: 15/19 | trn_loss: 0.3860 | val_loss: 1.3334\n",
            "epoch: 11/45 | step: 15/19 | trn_loss: 0.3399 | val_loss: 1.2552\n",
            "epoch: 12/45 | step: 15/19 | trn_loss: 0.3937 | val_loss: 1.1781\n",
            "epoch: 13/45 | step: 15/19 | trn_loss: 0.2598 | val_loss: 1.1063\n",
            "epoch: 14/45 | step: 15/19 | trn_loss: 0.3109 | val_loss: 1.0406\n",
            "epoch: 15/45 | step: 15/19 | trn_loss: 0.2788 | val_loss: 0.9824\n",
            "epoch: 16/45 | step: 15/19 | trn_loss: 0.2608 | val_loss: 0.9324\n",
            "epoch: 17/45 | step: 15/19 | trn_loss: 0.2345 | val_loss: 0.8934\n",
            "epoch: 18/45 | step: 15/19 | trn_loss: 0.2782 | val_loss: 0.8634\n",
            "epoch: 19/45 | step: 15/19 | trn_loss: 0.2281 | val_loss: 0.8416\n",
            "epoch: 20/45 | step: 15/19 | trn_loss: 0.2626 | val_loss: 0.8273\n",
            "epoch: 21/45 | step: 15/19 | trn_loss: 0.2132 | val_loss: 0.8189\n",
            "epoch: 22/45 | step: 15/19 | trn_loss: 0.2058 | val_loss: 0.8153\n",
            "epoch: 23/45 | step: 15/19 | trn_loss: 0.2242 | val_loss: 0.8150\n",
            "epoch: 24/45 | step: 15/19 | trn_loss: 0.2231 | val_loss: 0.8172\n",
            "epoch: 25/45 | step: 15/19 | trn_loss: 0.1863 | val_loss: 0.8202\n",
            "epoch: 26/45 | step: 15/19 | trn_loss: 0.1937 | val_loss: 0.8245\n",
            "epoch: 27/45 | step: 15/19 | trn_loss: 0.2476 | val_loss: 0.8295\n",
            "epoch: 28/45 | step: 15/19 | trn_loss: 0.2006 | val_loss: 0.8326\n",
            "epoch: 29/45 | step: 15/19 | trn_loss: 0.1886 | val_loss: 0.8370\n",
            "epoch: 30/45 | step: 15/19 | trn_loss: 0.2177 | val_loss: 0.8410\n",
            "epoch: 31/45 | step: 15/19 | trn_loss: 0.1713 | val_loss: 0.8431\n",
            "epoch: 32/45 | step: 15/19 | trn_loss: 0.2286 | val_loss: 0.8454\n",
            "epoch: 33/45 | step: 15/19 | trn_loss: 0.1702 | val_loss: 0.8497\n",
            "epoch: 34/45 | step: 15/19 | trn_loss: 0.2052 | val_loss: 0.8519\n",
            "epoch: 35/45 | step: 15/19 | trn_loss: 0.1638 | val_loss: 0.8525\n",
            "epoch: 36/45 | step: 15/19 | trn_loss: 0.1540 | val_loss: 0.8530\n",
            "epoch: 37/45 | step: 15/19 | trn_loss: 0.2102 | val_loss: 0.8564\n",
            "epoch: 38/45 | step: 15/19 | trn_loss: 0.1516 | val_loss: 0.8538\n",
            "epoch: 39/45 | step: 15/19 | trn_loss: 0.1610 | val_loss: 0.8539\n",
            "epoch: 40/45 | step: 15/19 | trn_loss: 0.1561 | val_loss: 0.8556\n",
            "epoch: 41/45 | step: 15/19 | trn_loss: 0.1762 | val_loss: 0.8562\n",
            "epoch: 42/45 | step: 15/19 | trn_loss: 0.1802 | val_loss: 0.8559\n",
            "epoch: 43/45 | step: 15/19 | trn_loss: 0.1912 | val_loss: 0.8583\n",
            "epoch: 44/45 | step: 15/19 | trn_loss: 0.1871 | val_loss: 0.8569\n",
            "epoch: 45/45 | step: 15/19 | trn_loss: 0.1712 | val_loss: 0.8572\n",
            "finish Training\n"
          ]
        }
      ]
    },
    {
      "cell_type": "code",
      "metadata": {
        "colab": {
          "base_uri": "https://localhost:8080/",
          "height": 465
        },
        "id": "xKwwJZuYkUvI",
        "outputId": "51bada9b-42ac-4e5a-969d-538d3932267f"
      },
      "source": [
        "plt.figure(figsize=(16,9))\n",
        "x_range = range(len(trn_loss_list))\n",
        "plt.plot(x_range, trn_loss_list, label=\"trn\")\n",
        "plt.plot(x_range, val_loss_list, label=\"val\")\n",
        "plt.legend()\n",
        "plt.xlabel(\"training steps\")\n",
        "plt.ylabel(\"loss\")"
      ],
      "execution_count": 143,
      "outputs": [
        {
          "output_type": "execute_result",
          "data": {
            "text/plain": [
              "Text(0, 0.5, 'loss')"
            ]
          },
          "metadata": {},
          "execution_count": 143
        },
        {
          "output_type": "display_data",
          "data": {
            "image/png": "[encoded data removed]",
            "text/plain": [
              "<Figure size 1152x648 with 1 Axes>"
            ]
          },
          "metadata": {
            "needs_background": "light"
          }
        }
      ]
    },
    {
      "cell_type": "code",
      "metadata": {
        "id": "lq78LFW0rqHN"
      },
      "source": [
        "torch.save(model.state_dict(), './model')"
      ],
      "execution_count": 148,
      "outputs": []
    },
    {
      "cell_type": "code",
      "metadata": {
        "colab": {
          "base_uri": "https://localhost:8080/"
        },
        "id": "cyRDIBrbr_Tr",
        "outputId": "ee53f382-4b6a-4618-e69f-fd5b1cba0ac3"
      },
      "source": [
        "model2 = DNN()\n",
        "model2.load_state_dict(torch.load('./model'))\n",
        "model2.eval()"
      ],
      "execution_count": 151,
      "outputs": [
        {
          "output_type": "execute_result",
          "data": {
            "text/plain": [
              "tensor([ 2.2255,  2.5099,  2.1097,  2.2349,  2.1479,  2.5812,  2.2160,  2.4282,\n",
              "         2.2928,  2.1645,  2.1369,  2.1442,  2.5246,  2.0583, -0.1075,  2.4256,\n",
              "         1.6156,  2.3366,  2.0284,  2.2629,  1.5956,  2.3728], device='cuda:0',\n",
              "       grad_fn=<ViewBackward>)"
            ]
          },
          "metadata": {},
          "execution_count": 151
        }
      ]
    }
  ]
}